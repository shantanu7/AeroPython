{
 "cells": [
  {
   "cell_type": "code",
   "execution_count": 26,
   "metadata": {
    "collapsed": true
   },
   "outputs": [],
   "source": [
    "import math\n",
    "import numpy\n",
    "from matplotlib import pyplot\n",
    "%matplotlib inline"
   ]
  },
  {
   "cell_type": "code",
   "execution_count": 27,
   "metadata": {
    "collapsed": false
   },
   "outputs": [],
   "source": [
    "#Define grid parameters\n",
    "\n",
    "N = 56\n",
    "Xmin = -2.0; Xmax = 2.0\n",
    "Ymin = -2.0; Ymax = 2.0\n",
    "\n",
    "x = numpy.linspace(Xmin, Xmax, N);\n",
    "y = numpy.linspace(Ymin, Ymax, N);\n",
    "\n",
    "X, Y = numpy.meshgrid(x, y)"
   ]
  },
  {
   "cell_type": "code",
   "execution_count": 28,
   "metadata": {
    "collapsed": false
   },
   "outputs": [],
   "source": [
    "#Define flow parameters\n",
    "\n",
    "gamma = 1.0;               #Source strength\n",
    "x_source, y_source = -0.0, 0.0\n",
    "\n",
    "u_source = gamma/(2.*math.pi)*(X-x_source)/((X-x_source)**2+(Y-y_source)**2)\n",
    "v_source = gamma/(2.*math.pi)*(Y-y_source)/((X-x_source)**2+(Y-y_source)**2)\n",
    "\n",
    "Vel_source = numpy.sqrt(u_source**2 + v_source**2)"
   ]
  },
  {
   "cell_type": "code",
   "execution_count": 29,
   "metadata": {
    "collapsed": false
   },
   "outputs": [
    {
     "data": {
      "text/plain": [
       "<matplotlib.contour.QuadContourSet at 0x7fa9f9774c18>"
      ]
     },
     "execution_count": 29,
     "metadata": {},
     "output_type": "execute_result"
    },
    {
     "data": {
      "image/png": "[encoded data removed]",
      "text/plain": [
       "<matplotlib.figure.Figure at 0x7fa9f9829978>"
      ]
     },
     "metadata": {},
     "output_type": "display_data"
    }
   ],
   "source": [
    "pyplot.contour(X, Y, Vel_source)"
   ]
  }
 ],
 "metadata": {
  "kernelspec": {
   "display_name": "Python 3",
   "language": "python",
   "name": "python3"
  },
  "language_info": {
   "codemirror_mode": {
    "name": "ipython",
    "version": 3
   },
   "file_extension": ".py",
   "mimetype": "text/x-python",
   "name": "python",
   "nbconvert_exporter": "python",
   "pygments_lexer": "ipython3",
   "version": "3.4.3"
  }
 },
 "nbformat": 4,
 "nbformat_minor": 0
}
