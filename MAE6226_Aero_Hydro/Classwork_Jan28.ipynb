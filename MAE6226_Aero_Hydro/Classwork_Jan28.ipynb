{
 "cells": [
  {
   "cell_type": "code",
   "execution_count": 1,
   "metadata": {
    "collapsed": true
   },
   "outputs": [],
   "source": [
    "import math\n",
    "import numpy\n",
    "from matplotlib import pyplot\n",
    "%matplotlib inline"
   ]
  },
  {
   "cell_type": "code",
   "execution_count": 4,
   "metadata": {
    "collapsed": false
   },
   "outputs": [],
   "source": [
    "Xmin = 0.0; Xmax = 1.0\n",
    "Ymin = 0.0; Ymax = 1.0\n",
    "N = 101;\n",
    "\n",
    "x = numpy.linspace(Xmin, Xmax, N);\n",
    "y = numpy.linspace(Ymin, Ymax, N);\n",
    "\n",
    "dx = x[1]- x[0]; dy = y[1] - y[0];\n",
    "\n",
    "X, Y = numpy.meshgrid(x,y)"
   ]
  },
  {
   "cell_type": "code",
   "execution_count": 15,
   "metadata": {
    "collapsed": false
   },
   "outputs": [],
   "source": [
    "u = numpy.ones_like(X); v = numpy.zeros_like(Y);\n",
    "Uinf = 1.0;\n",
    "\n",
    "psi = numpy.zeros_like(X);\n",
    "        \n",
    "psi = Uinf*Y"
   ]
  },
  {
   "cell_type": "code",
   "execution_count": 17,
   "metadata": {
    "collapsed": false
   },
   "outputs": [
    {
     "data": {
      "image/png": "[encoded data removed]",
      "text/plain": [
       "<matplotlib.figure.Figure at 0x7f25e24e1160>"
      ]
     },
     "metadata": {},
     "output_type": "display_data"
    }
   ],
   "source": [
    "pyplot.figure()\n",
    "pyplot.contourf(X,Y,psi,levels = numpy.linspace(0,1,11));"
   ]
  },
  {
   "cell_type": "code",
   "execution_count": 18,
   "metadata": {
    "collapsed": false
   },
   "outputs": [
    {
     "name": "stdout",
     "output_type": "stream",
     "text": [
      "Integral: 0.4\n",
      "Difference in psi: 0.4\n"
     ]
    }
   ],
   "source": [
    "ai = 10; aj = 25;\n",
    "bi = 50; bj = 70;\n",
    "\n",
    "print('Integral:', Uinf*(Y[bi,bj]-Y[ai,aj]))\n",
    "print('Difference in psi:', psi[bi,bj]-psi[ai,aj])"
   ]
  },
  {
   "cell_type": "code",
   "execution_count": null,
   "metadata": {
    "collapsed": true
   },
   "outputs": [],
   "source": []
  }
 ],
 "metadata": {
  "kernelspec": {
   "display_name": "Python 3",
   "language": "python",
   "name": "python3"
  },
  "language_info": {
   "codemirror_mode": {
    "name": "ipython",
    "version": 3
   },
   "file_extension": ".py",
   "mimetype": "text/x-python",
   "name": "python",
   "nbconvert_exporter": "python",
   "pygments_lexer": "ipython3",
   "version": "3.4.3"
  }
 },
 "nbformat": 4,
 "nbformat_minor": 0
}
